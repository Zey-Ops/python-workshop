{
 "cells": [
  {
   "cell_type": "code",
   "execution_count": 8,
   "metadata": {},
   "outputs": [
    {
     "name": "stdout",
     "output_type": "stream",
     "text": [
      "[1, 2, 3, 4, 5, 6, 7, 8, 9, 10]\n",
      "5\n",
      "10\n",
      "15\n",
      "20\n",
      "25\n",
      "30\n",
      "35\n",
      "40\n",
      "45\n",
      "50\n"
     ]
    }
   ],
   "source": [
    "my_ls = list(range(1,11))\n",
    "print(my_ls)\n",
    "for n in my_ls:\n",
    "    print(5*n)"
   ]
  },
  {
   "cell_type": "code",
   "execution_count": 9,
   "metadata": {},
   "outputs": [
    {
     "name": "stdout",
     "output_type": "stream",
     "text": [
      "{0, 1, 2, 3, 4, 5, 6, 7, 8, 9}\n"
     ]
    }
   ],
   "source": [
    "my_ls = list(range(1,11))\n",
    "a = set(range(0,10))\n",
    "print(a)"
   ]
  },
  {
   "cell_type": "code",
   "execution_count": 12,
   "metadata": {},
   "outputs": [
    {
     "name": "stdout",
     "output_type": "stream",
     "text": [
      "(0, 1, 2, 3, 4, 5, 6, 7, 8, 9, 10)\n"
     ]
    }
   ],
   "source": [
    "my_ls = list(range(1, 11))\n",
    "a = set(range(0,10))\n",
    "\n",
    "kids = list(range(3, 13))\n",
    "teens = list(range(13, 18))\n",
    "\n",
    "#age = int(input('please enter your age: '))\n",
    "\n",
    "my_tup = tuple(range(11))\n",
    "print(my_tup)"
   ]
  },
  {
   "cell_type": "code",
   "execution_count": 15,
   "metadata": {},
   "outputs": [
    {
     "name": "stdout",
     "output_type": "stream",
     "text": [
      "range(0, 5)\n",
      "0 1 2 3 4\n",
      "5 7 9 11 13 15 17 19 21 23\n",
      "range(5, 25, 2)\n"
     ]
    }
   ],
   "source": [
    "print(range(5))\n",
    "print(*range(5))\n",
    "print(*range(5,25,2))\n",
    "print(range(5,25,2))"
   ]
  },
  {
   "cell_type": "code",
   "execution_count": 18,
   "metadata": {},
   "outputs": [
    {
     "name": "stdout",
     "output_type": "stream",
     "text": [
      "s e p e r a t e\n",
      "seperate\n"
     ]
    }
   ],
   "source": [
    "print(*('seperate'))\n",
    "print('seperate')"
   ]
  },
  {
   "cell_type": "code",
   "execution_count": 23,
   "metadata": {},
   "outputs": [
    {
     "name": "stdout",
     "output_type": "stream",
     "text": [
      "range(10, 0, -2)\n",
      "\n"
     ]
    }
   ],
   "source": [
    "print(range(10,0,-2))\n",
    "print(*range(10, 15, -2))"
   ]
  },
  {
   "cell_type": "code",
   "execution_count": 30,
   "metadata": {},
   "outputs": [
    {
     "name": "stdout",
     "output_type": "stream",
     "text": [
      "10 8 6 4 2 0 -2 -4 -6 -8\n"
     ]
    }
   ],
   "source": [
    "print(*range(10, -10, -2))"
   ]
  },
  {
   "cell_type": "code",
   "execution_count": 31,
   "metadata": {},
   "outputs": [
    {
     "name": "stdout",
     "output_type": "stream",
     "text": [
      "0 -2 -4 -6 -8\n"
     ]
    }
   ],
   "source": [
    "print(*range(0, -10, -2))"
   ]
  },
  {
   "cell_type": "code",
   "execution_count": 32,
   "metadata": {},
   "outputs": [
    {
     "name": "stdout",
     "output_type": "stream",
     "text": [
      "one : 1\n",
      "two : 2\n",
      "three : 3\n",
      "four : 4\n",
      "five : 5\n"
     ]
    }
   ],
   "source": [
    "text = ['one', 'two', 'three', 'four', 'five']\n",
    "numbers = [1, 2, 3, 4, 5]\n",
    "for x, y in zip(text, numbers):\n",
    "    print(x,':',y)"
   ]
  },
  {
   "cell_type": "code",
   "execution_count": 41,
   "metadata": {},
   "outputs": [
    {
     "name": "stdout",
     "output_type": "stream",
     "text": [
      "the capital of USA is DC population is 230 million people\n",
      "the capital of Canada is Toronto population is 100 million people\n",
      "the capital of Turkey is Istanbul population is 130 million people\n",
      "the capital of India is Delhi population is 200 million people\n",
      "the capital of Egypt is Cairo population is 5999 million people\n"
     ]
    }
   ],
   "source": [
    "cap = ['DC', 'Toronto', 'Istanbul', 'Delhi', 'Cairo']\n",
    "cont = ['USA', 'Canada', 'Turkey', 'India', 'Egypt']\n",
    "population = [230, 100, 130, 200, 5999]\n",
    "for cap, cont, count in zip(cap, cont, population):\n",
    "    print(f'the capital of {cont} is {cap} population is {count} million people')\n",
    "    \n",
    "    "
   ]
  },
  {
   "cell_type": "code",
   "execution_count": 50,
   "metadata": {},
   "outputs": [
    {
     "name": "stdout",
     "output_type": "stream",
     "text": [
      "[1, 3, 5, 7, 9, 11, 13, 15, 17, 19]\n",
      "[0, 2, 4, 6, 8, 10, 12, 14, 16, 18]\n",
      "In that range(0, 20) my odd numbers are \"[1, 3, 5, 7, 9, 11, 13, 15, 17, 19]\" and my even numbers are \"[0, 2, 4, 6, 8, 10, 12, 14, 16, 18]!\n"
     ]
    }
   ],
   "source": [
    "odds = []\n",
    "even = []\n",
    "    \n",
    "for n in range(20):\n",
    "    if n % 2 == 0:\n",
    "        even.append(n)\n",
    "    else:\n",
    "        odds.append(n)\n",
    "print(odds, even, sep='\\n')\n",
    "\n",
    "print(f'In that {range(20)} my odd numbers are \"{odds}\" and my even numbers are \"{even}!')"
   ]
  },
  {
   "cell_type": "code",
   "execution_count": 52,
   "metadata": {},
   "outputs": [
    {
     "name": "stdout",
     "output_type": "stream",
     "text": [
      "even numbers = 4 and odd numbers = 6\n"
     ]
    }
   ],
   "source": [
    "numbers =(23, 11, 36, 66, 89, 21, 16, 10, 33, 67)\n",
    "\n",
    "odds = 0\n",
    "even = 0 \n",
    "\n",
    "for n in numbers:\n",
    "    if n % 2:\n",
    "        odds += 1\n",
    "    else:\n",
    "        even += 1\n",
    "print(f'even numbers = {even} and odd numbers = {odds}')\n",
    "        "
   ]
  },
  {
   "cell_type": "code",
   "execution_count": 54,
   "metadata": {},
   "outputs": [
    {
     "name": "stdout",
     "output_type": "stream",
     "text": [
      "even numbers = 4 \n",
      "odd numbers = 6\n"
     ]
    }
   ],
   "source": [
    "numbers =(23, 11, 36, 66, 89, 21, 16, 10, 33, 67)\n",
    "\n",
    "odds = 0\n",
    "even = 0 \n",
    "\n",
    "for n in numbers:\n",
    "    if n % 2 !=0:\n",
    "        odds += 1\n",
    "    else:\n",
    "        even += 1\n",
    "print(f'even numbers = {even} \\nodd numbers = {odds}')"
   ]
  },
  {
   "cell_type": "code",
   "execution_count": 59,
   "metadata": {},
   "outputs": [
    {
     "name": "stdout",
     "output_type": "stream",
     "text": [
      "1\n",
      "22\n",
      "333\n",
      "4444\n",
      "55555\n",
      "666666\n",
      "7777777\n",
      "88888888\n",
      "999999999\n"
     ]
    }
   ],
   "source": [
    "numbers = (range(1, 10))\n",
    "for n in numbers:\n",
    "    print(str(n)*n)"
   ]
  },
  {
   "cell_type": "code",
   "execution_count": 76,
   "metadata": {},
   "outputs": [
    {
     "name": "stdout",
     "output_type": "stream",
     "text": [
      "1\n",
      "3\n",
      "6\n",
      "10\n",
      "15\n",
      "21\n",
      "28\n",
      "36\n",
      "45\n",
      "55\n",
      "66\n",
      "78\n",
      "91\n",
      "105\n",
      "120\n",
      "136\n",
      "153\n",
      "171\n",
      "190\n",
      "210\n",
      "231\n",
      "253\n",
      "276\n",
      "300\n",
      "325\n",
      "351\n",
      "378\n",
      "406\n",
      "435\n",
      "465\n",
      "496\n",
      "528\n",
      "561\n",
      "595\n",
      "630\n",
      "666\n",
      "703\n",
      "741\n",
      "780\n",
      "820\n",
      "861\n",
      "903\n",
      "946\n",
      "990\n",
      "1035\n",
      "1081\n",
      "1128\n",
      "1176\n",
      "1225\n",
      "1275\n",
      "1326\n",
      "1378\n",
      "1431\n",
      "1485\n",
      "1540\n",
      "1596\n",
      "1653\n",
      "1711\n",
      "1770\n",
      "1830\n",
      "1891\n",
      "1953\n",
      "2016\n",
      "2080\n",
      "2145\n",
      "2211\n",
      "2278\n",
      "2346\n",
      "2415\n",
      "2485\n",
      "2556\n",
      "2628\n",
      "2701\n",
      "2775\n"
     ]
    }
   ],
   "source": [
    "ttl = 0\n",
    "for number in range(1, 75):\n",
    "    ttl += number\n",
    "    print(ttl)"
   ]
  },
  {
   "cell_type": "code",
   "execution_count": 73,
   "metadata": {},
   "outputs": [
    {
     "name": "stdout",
     "output_type": "stream",
     "text": [
      "0\n",
      "1\n",
      "3\n",
      "6\n",
      "10\n",
      "15\n",
      "21\n",
      "28\n",
      "36\n",
      "45\n",
      "55\n",
      "66\n",
      "78\n",
      "91\n",
      "105\n",
      "120\n",
      "136\n",
      "153\n",
      "171\n",
      "190\n",
      "210\n",
      "231\n",
      "253\n",
      "276\n",
      "300\n",
      "325\n",
      "351\n",
      "378\n",
      "406\n",
      "435\n",
      "465\n",
      "496\n",
      "528\n",
      "561\n",
      "595\n",
      "630\n",
      "666\n",
      "703\n",
      "741\n",
      "780\n",
      "820\n",
      "861\n",
      "903\n",
      "946\n",
      "990\n",
      "1035\n",
      "1081\n",
      "1128\n",
      "1176\n",
      "1225\n",
      "1275\n",
      "1326\n",
      "1378\n",
      "1431\n",
      "1485\n",
      "1540\n",
      "1596\n",
      "1653\n",
      "1711\n",
      "1770\n",
      "1830\n",
      "1891\n",
      "1953\n",
      "2016\n",
      "2080\n",
      "2145\n",
      "2211\n",
      "2278\n",
      "2346\n",
      "2415\n",
      "2485\n",
      "2556\n",
      "2628\n",
      "2701\n",
      "2775\n"
     ]
    }
   ],
   "source": [
    "ttl = 0\n",
    "for n in range(75):\n",
    "    ttl += n \n",
    "    print(ttl)"
   ]
  },
  {
   "cell_type": "code",
   "execution_count": 87,
   "metadata": {},
   "outputs": [
    {
     "name": "stdout",
     "output_type": "stream",
     "text": [
      "I am happy today 1\n",
      "I am happy today 2\n",
      "I am happy every day 1\n",
      "I am happy every day 2\n",
      "I am confident today 1\n",
      "I am confident today 2\n",
      "I am confident every day 1\n",
      "I am confident every day 2\n",
      "You are happy today 1\n",
      "You are happy today 2\n",
      "You are happy every day 1\n",
      "You are happy every day 2\n",
      "You are confident today 1\n",
      "You are confident today 2\n",
      "You are confident every day 1\n",
      "You are confident every day 2\n",
      "He is happy today 1\n",
      "He is happy today 2\n",
      "He is happy every day 1\n",
      "He is happy every day 2\n",
      "He is confident today 1\n",
      "He is confident today 2\n",
      "He is confident every day 1\n",
      "He is confident every day 2\n",
      "She is happy today 1\n",
      "She is happy today 2\n",
      "She is happy every day 1\n",
      "She is happy every day 2\n",
      "She is confident today 1\n",
      "She is confident today 2\n",
      "She is confident every day 1\n",
      "She is confident every day 2\n",
      "They are happy today 1\n",
      "They are happy today 2\n",
      "They are happy every day 1\n",
      "They are happy every day 2\n",
      "They are confident today 1\n",
      "They are confident today 2\n",
      "They are confident every day 1\n",
      "They are confident every day 2\n"
     ]
    }
   ],
   "source": [
    "person = ['I am ', 'You are ', 'He is ', 'She is ', 'They are ']\n",
    "mood = ['happy ', 'confident ']\n",
    "day = ['today ', 'every day ']\n",
    "days = ['1', '2']\n",
    "for p in person:\n",
    "    for m in mood:\n",
    "        for d in day:\n",
    "            for ds in days:\n",
    "                print(p+m+d+ds)"
   ]
  },
  {
   "cell_type": "code",
   "execution_count": null,
   "metadata": {},
   "outputs": [],
   "source": []
  }
 ],
 "metadata": {
  "kernelspec": {
   "display_name": "Python 3.8.2 64-bit",
   "language": "python",
   "name": "python38264bit79551e96e18247fb929354bb582bde26"
  },
  "language_info": {
   "codemirror_mode": {
    "name": "ipython",
    "version": 3
   },
   "file_extension": ".py",
   "mimetype": "text/x-python",
   "name": "python",
   "nbconvert_exporter": "python",
   "pygments_lexer": "ipython3",
   "version": "3.8.2"
  }
 },
 "nbformat": 4,
 "nbformat_minor": 4
}

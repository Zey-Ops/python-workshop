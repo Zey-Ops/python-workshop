{
 "cells": [
  {
   "cell_type": "code",
   "execution_count": null,
   "metadata": {},
   "outputs": [],
   "source": [
    "number = int(input(\"Please enter a number: \"))\n",
    "order = len(str(number))\n",
    "sum = 0 \n",
    "\n",
    "if number > 0:\n",
    "digit = number % 10\n",
    "sum += digit ** order\n",
    "number //= 10 \n",
    "if number == sum:\n",
    "    print(number, \"is an Armstrong number\")\n",
    "    elif number < 0:\n",
    "        print(\"Please enter a positive number\")\n",
    "    elif (',' or '.')  in number:\n",
    "        print('Please enter an integer number')\n",
    "    else: \n",
    "    print(number, \"is not an Armstrong number\")"
   ]
  },
  {
   "cell_type": "code",
   "execution_count": null,
   "metadata": {},
   "outputs": [],
   "source": [
    "while True:\n",
    "    a=input('Please enter a number__')\n",
    "    if a.isdigit(): \n",
    "        if int(a)==sum([int(i)**len(a) for i in a ]):\n",
    "            b= f'{a} is an Armstrong number'\n",
    "            print(b)\n",
    "            break\n",
    "        else:\n",
    "            b=f'{a} is not an Armstrong number'\n",
    "            print(b)\n",
    "            break\n",
    "    elif '-' in a:         \n",
    "        a=input('Please enter a positive number')\n",
    "    if (',' or '.') in a :\n",
    "        a=input('Please enter an integer number')\n",
    "    else:        \n",
    "        a=input('Do not use any entries other than numeric values')"
   ]
  },
  {
   "cell_type": "code",
   "execution_count": null,
   "metadata": {},
   "outputs": [],
   "source": [
    "number = int(input(\"Please enter a number: \"))\n",
    "order = len(str(number))\n",
    "sum = 0 \n",
    "\n",
    "if number > 0:\n",
    "digit = number % 10\n",
    "sum += digit ** order\n",
    "number //= 10 \n",
    "if number == sum:\n",
    "    print(number, \"is an Armstrong number\")\n",
    "elif number < 0:\n",
    "    print(\"Please enter a positive number\")\n",
    "elif (',' or '.')  in number:\n",
    "    print('Please enter an integer number')\n",
    "else: \n",
    "    print(number, \"is not an Armstrong number\")"
   ]
  },
  {
   "cell_type": "code",
   "execution_count": null,
   "metadata": {},
   "outputs": [],
   "source": [
    "while True:\n",
    "    a=input('Please enter a number__')\n",
    "    if a.isdigit(): \n",
    "        if int(a)==sum([int(i)**len(a) for i in a ]):\n",
    "            b= f'{a} is an Armstrong number'\n",
    "            print(b)\n",
    "            break\n",
    "        else:\n",
    "            b=f'{a} is not an Armstrong number'\n",
    "            print(b)\n",
    "            break\n",
    "    elif '-' in a:         \n",
    "        a=input('Please enter a positive number')\n",
    "    if (',' or '.') in a :\n",
    "        a=input('Please enter an integer number')\n",
    "    else:        \n",
    "        a=input('Do not use any entries other than numeric values')"
   ]
  }
 ],
 "metadata": {
  "kernelspec": {
   "display_name": "Python 3.8.2 64-bit",
   "language": "python",
   "name": "python38264bit79551e96e18247fb929354bb582bde26"
  },
  "language_info": {
   "codemirror_mode": {
    "name": "ipython",
    "version": 3
   },
   "file_extension": ".py",
   "mimetype": "text/x-python",
   "name": "python",
   "nbconvert_exporter": "python",
   "pygments_lexer": "ipython3",
   "version": "3.8.2"
  }
 },
 "nbformat": 4,
 "nbformat_minor": 4
}
